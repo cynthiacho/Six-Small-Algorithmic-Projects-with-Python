{
 "cells": [
  {
   "cell_type": "markdown",
   "id": "cca65d41",
   "metadata": {},
   "source": [
    "**NaryNode**"
   ]
  },
  {
   "cell_type": "code",
   "execution_count": 1,
   "id": "f0f335af",
   "metadata": {},
   "outputs": [
    {
     "ename": "IndentationError",
     "evalue": "expected an indented block (1696878258.py, line 7)",
     "output_type": "error",
     "traceback": [
      "\u001b[1;36m  Cell \u001b[1;32mIn[1], line 7\u001b[1;36m\u001b[0m\n\u001b[1;33m    def add_child(self, child):\u001b[0m\n\u001b[1;37m    ^\u001b[0m\n\u001b[1;31mIndentationError\u001b[0m\u001b[1;31m:\u001b[0m expected an indented block\n"
     ]
    }
   ],
   "source": [
    "class NaryNode:\n",
    "    indent = '  '\n",
    "\n",
    "    def __init__(self, value):\n",
    "        \n",
    "\n",
    "    def add_child(self, child):\n",
    "        \n",
    "        \n",
    "    def __str__(self):\n",
    "        \n",
    "    # Return an indented string representation of the node and its children.\n",
    "    def __str__(self, level=0):\n",
    "        '''Recursively create a string representation of this node's subtree.\n",
    "        Display this value indented, followed by the child values indented one more level.\n",
    "        End in a newline.'''\n",
    "        \n",
    "\n",
    "    def find_node(self, target):\n",
    "        '''Recursively search this node's subtree looking for the target value.\n",
    "        Return the node that contains the value or None.'''\n",
    "        # See if this node contains the value.\n",
    "        \n",
    "\n",
    "        # Search the child subtrees.\n",
    "        \n",
    "\n",
    "        # We did not find the value. Return None.\n",
    "        "
   ]
  },
  {
   "cell_type": "code",
   "execution_count": null,
   "id": "10c8908d",
   "metadata": {},
   "outputs": [],
   "source": [
    "def find_value(root, target):\n",
    "    "
   ]
  },
  {
   "cell_type": "code",
   "execution_count": null,
   "id": "7ba77f54",
   "metadata": {},
   "outputs": [],
   "source": [
    "# Build a test tree.\n",
    "#      Root\n",
    "#        |\n",
    "#     +--+--+\n",
    "#     A  B  C\n",
    "#     |     |\n",
    "#    +-+    +\n",
    "#    D E    F\n",
    "#    |      |\n",
    "#    +     +-+\n",
    "#    G     H I\n"
   ]
  },
  {
   "cell_type": "code",
   "execution_count": null,
   "id": "5dc9a590",
   "metadata": {
    "scrolled": true
   },
   "outputs": [],
   "source": [
    "# Find some values.\n",
    "find_value(root, 'Root')\n",
    "find_value(root, 'E')\n",
    "find_value(root, 'F')\n",
    "find_value(root, 'Q')\n",
    "\n",
    "# Find F in the C subtree.\n",
    "find_value(c, 'F')"
   ]
  },
  {
   "cell_type": "code",
   "execution_count": null,
   "id": "8fb861a9",
   "metadata": {},
   "outputs": [],
   "source": []
  },
  {
   "cell_type": "markdown",
   "id": "52d9f4e2",
   "metadata": {},
   "source": [
    "**Binary Node**"
   ]
  },
  {
   "cell_type": "code",
   "execution_count": null,
   "id": "005e76d0",
   "metadata": {},
   "outputs": [],
   "source": [
    "class BinaryNode:\n",
    "    indent = '  '\n",
    "\n",
    "    def __init__(self, value):\n",
    "        \n",
    "\n",
    "    def add_left(self, child):\n",
    "        \n",
    "\n",
    "    def add_right(self, child):\n",
    "        \n",
    "\n",
    "    # Return an indented string representation of the node and its children.\n",
    "    def __str__(self, level=0):\n",
    "        '''Recursively create a string representation of this node's subtree.\n",
    "        Display this value indented, followed by the left and right values indented one more level.\n",
    "        End in a newline.'''\n",
    "        \n",
    "\n",
    "    def find_node(self, target):\n",
    "        '''Recursively search this node's subtree looking for the target value.\n",
    "        Return the node that contains the value or None.'''\n",
    "        # See if this node contains the value.\n",
    "        \n",
    "        \n",
    "        # Search the left child subtree.\n",
    "        \n",
    "\n",
    "        # Search the right child subtree.\n",
    "        \n",
    "\n",
    "        # We did not find the value. Return None.\n",
    "         "
   ]
  },
  {
   "cell_type": "code",
   "execution_count": null,
   "id": "da4dbce8",
   "metadata": {},
   "outputs": [],
   "source": [
    "def find_value(root, target):\n",
    "    "
   ]
  },
  {
   "cell_type": "code",
   "execution_count": null,
   "id": "6cd782eb",
   "metadata": {},
   "outputs": [],
   "source": [
    "# Build a test tree.\n",
    "#      Root\n",
    "#      /  \\\n",
    "#     A    B\n",
    "#    / \\    \\\n",
    "#   C   D    E\n",
    "#           /\n",
    "#          F\n"
   ]
  },
  {
   "cell_type": "code",
   "execution_count": null,
   "id": "e1ba179e",
   "metadata": {},
   "outputs": [],
   "source": [
    "def find_value(root, target):\n",
    "    "
   ]
  },
  {
   "cell_type": "code",
   "execution_count": null,
   "id": "27207be8",
   "metadata": {},
   "outputs": [],
   "source": [
    "\n",
    "# Build a test tree.\n",
    "#      Root\n",
    "#      /  \\\n",
    "#     A    B\n",
    "#    / \\    \\\n",
    "#   C   D    E\n",
    "#           /\n",
    "#          F\n"
   ]
  },
  {
   "cell_type": "code",
   "execution_count": null,
   "id": "95ad25ba",
   "metadata": {},
   "outputs": [],
   "source": [
    "# Find some values.\n",
    "find_value(root, 'Root')\n",
    "find_value(root, 'E')\n",
    "find_value(root, 'F')\n",
    "find_value(root, 'Q')\n",
    "\n",
    "# Find F in the B subtree.\n",
    "find_value(b, 'F')"
   ]
  },
  {
   "cell_type": "markdown",
   "id": "3bab6290",
   "metadata": {},
   "source": [
    "**BinaryNode**"
   ]
  },
  {
   "cell_type": "code",
   "execution_count": null,
   "id": "5627039e",
   "metadata": {},
   "outputs": [],
   "source": [
    "class BinaryNode:\n",
    "    indent = '  '\n",
    "\n",
    "    def __init__(self, value):\n",
    "        self.value = value\n",
    "        self.left_child = None\n",
    "        self.right_child = None\n",
    "\n",
    "    def add_left(self, child):\n",
    "        self.left_child = child\n",
    "\n",
    "    def add_right(self, child):\n",
    "        self.right_child = child\n",
    "\n",
    "    # Return an indented string representation of the node and its children.\n",
    "    def __str__(self, level=0):\n",
    "        '''Recursively create a string representation of this node's subtree.\n",
    "        Display this value indented, followed by the left and right values indented one more level.\n",
    "        End in a newline.'''\n",
    "        \n",
    "        # Create a string named result that initially holds the\n",
    "        # current node’s value followed by a new line.\n",
    "        result = level * BinaryNode.indent + f'{self.value}:\\n'\n",
    "        \n",
    "        # If the node has any children:\n",
    "        if (self.left_child != None) or (self.right_child != None):\n",
    "            # If the node has a left child, add None or the child's value.\n",
    "            if self.left_child == None:\n",
    "                result += f'{(level + 1) * BinaryNode.indent}None\\n'\n",
    "            else:\n",
    "                result += self.left_child.__str__(level + 1)\n",
    "\n",
    "            # If the node has a right child, add None or the child's value.\n",
    "            if self.right_child == None:\n",
    "                result += f'{(level + 1) * BinaryNode.indent}None\\n'\n",
    "            else:\n",
    "                result += self.right_child.__str__(level + 1)\n",
    "        return result"
   ]
  },
  {
   "cell_type": "code",
   "execution_count": null,
   "id": "91f59212",
   "metadata": {},
   "outputs": [],
   "source": [
    "# Build a test tree.\n",
    "#      Root\n",
    "#      /  \\\n",
    "#     A    B\n",
    "#    / \\    \\\n",
    "#   C   D    E\n",
    "#           /\n",
    "#          F\n",
    "root = BinaryNode('Root')\n",
    "a = BinaryNode('A')\n",
    "b = BinaryNode('B')\n",
    "c = BinaryNode('C')\n",
    "d = BinaryNode('D')\n",
    "e = BinaryNode('E')\n",
    "f = BinaryNode('F')\n",
    "\n",
    "root.add_left(a)\n",
    "root.add_right(b)\n",
    "a.add_left(c)\n",
    "a.add_right(d)\n",
    "b.add_right(e)\n",
    "e.add_left(f)"
   ]
  },
  {
   "cell_type": "code",
   "execution_count": null,
   "id": "b6482c36",
   "metadata": {},
   "outputs": [],
   "source": [
    "print(root)"
   ]
  },
  {
   "cell_type": "code",
   "execution_count": null,
   "id": "43008c08",
   "metadata": {},
   "outputs": [],
   "source": [
    "print(a)"
   ]
  }
 ],
 "metadata": {
  "kernelspec": {
   "display_name": "Python 3 (ipykernel)",
   "language": "python",
   "name": "python3"
  },
  "language_info": {
   "codemirror_mode": {
    "name": "ipython",
    "version": 3
   },
   "file_extension": ".py",
   "mimetype": "text/x-python",
   "name": "python",
   "nbconvert_exporter": "python",
   "pygments_lexer": "ipython3",
   "version": "3.9.16"
  }
 },
 "nbformat": 4,
 "nbformat_minor": 5
}
