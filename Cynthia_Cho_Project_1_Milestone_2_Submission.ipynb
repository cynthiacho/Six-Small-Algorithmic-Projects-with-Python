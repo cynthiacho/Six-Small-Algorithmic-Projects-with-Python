{
 "cells": [
  {
   "cell_type": "markdown",
   "id": "cca65d41",
   "metadata": {},
   "source": [
    "**NaryNode**"
   ]
  },
  {
   "cell_type": "code",
   "execution_count": 14,
   "id": "f0f335af",
   "metadata": {},
   "outputs": [],
   "source": [
    "class NaryNode:\n",
    "    indent = '  '\n",
    "\n",
    "    def __init__(self, value):\n",
    "        self.value = value\n",
    "        self.children = []\n",
    "\n",
    "    def add_child(self, child):\n",
    "        self.children.append(child)\n",
    "        \n",
    "    def __str__(self):\n",
    "        result = f'{self.value}:'\n",
    "        for child in self.children:\n",
    "            result += f' {child.value}'\n",
    "        return result\n",
    "\n",
    "    # Return an indented string representation of the node and its children.\n",
    "    def __str__(self, level=0):\n",
    "        '''Recursively create a string representation of this node's subtree.\n",
    "        Display this value indented, followed by the child values indented one more level.\n",
    "        End in a newline.'''\n",
    "        result = level * NaryNode.indent + f'{self.value}:\\n'\n",
    "        for child in self.children:\n",
    "            result += child.__str__(level + 1)\n",
    "        return result"
   ]
  },
  {
   "cell_type": "code",
   "execution_count": 15,
   "id": "10c8908d",
   "metadata": {},
   "outputs": [],
   "source": [
    "# Build a test tree.\n",
    "#      Root\n",
    "#        |\n",
    "#     +--+--+\n",
    "#     A  B  C\n",
    "#     |     |\n",
    "#    +-+    +\n",
    "#    D E    F\n",
    "#    |      |\n",
    "#    +     +-+\n",
    "#    G     H I\n",
    "root = NaryNode('Root')\n",
    "a = NaryNode('A')\n",
    "b = NaryNode('B')\n",
    "c = NaryNode('C')\n",
    "d = NaryNode('D')\n",
    "e = NaryNode('E')\n",
    "f = NaryNode('F')\n",
    "g = NaryNode('G')\n",
    "h = NaryNode('H')\n",
    "i = NaryNode('I')\n",
    "\n",
    "root.add_child(a)\n",
    "root.add_child(b)\n",
    "root.add_child(c)\n",
    "a.add_child(d)\n",
    "a.add_child(e)\n",
    "c.add_child(f)\n",
    "d.add_child(g)\n",
    "f.add_child(h)\n",
    "f.add_child(i)"
   ]
  },
  {
   "cell_type": "code",
   "execution_count": 16,
   "id": "7ba77f54",
   "metadata": {},
   "outputs": [
    {
     "name": "stdout",
     "output_type": "stream",
     "text": [
      "Root:\n",
      "  A:\n",
      "    D:\n",
      "      G:\n",
      "    E:\n",
      "  B:\n",
      "  C:\n",
      "    F:\n",
      "      H:\n",
      "      I:\n",
      "\n"
     ]
    }
   ],
   "source": [
    "print(root)"
   ]
  },
  {
   "cell_type": "code",
   "execution_count": 17,
   "id": "5dc9a590",
   "metadata": {},
   "outputs": [
    {
     "name": "stdout",
     "output_type": "stream",
     "text": [
      "A:\n",
      "  D:\n",
      "    G:\n",
      "  E:\n",
      "\n"
     ]
    }
   ],
   "source": [
    "print(a)"
   ]
  },
  {
   "cell_type": "code",
   "execution_count": null,
   "id": "8fb861a9",
   "metadata": {},
   "outputs": [],
   "source": []
  },
  {
   "cell_type": "markdown",
   "id": "52d9f4e2",
   "metadata": {},
   "source": [
    "**Binary Node**"
   ]
  },
  {
   "cell_type": "code",
   "execution_count": 18,
   "id": "005e76d0",
   "metadata": {},
   "outputs": [],
   "source": [
    "class BinaryNode:\n",
    "    indent = '  '\n",
    "\n",
    "    def __init__(self, value):\n",
    "        self.value = value\n",
    "        self.left_child = None\n",
    "        self.right_child = None\n",
    "\n",
    "    def add_left(self, child):\n",
    "        self.left_child = child\n",
    "\n",
    "    def add_right(self, child):\n",
    "        self.right_child = child\n",
    "\n",
    "    # Return an indented string representation of the node and its children.\n",
    "    def __str__(self, level=0):\n",
    "        '''Recursively create a string representation of this node's subtree.\n",
    "        Display this value indented, followed by the left and right values indented one more level.\n",
    "        End in a newline.'''\n",
    "        \n",
    "        # Create a string named result that initially holds the\n",
    "        # current node’s value followed by a new line.\n",
    "        result = level * BinaryNode.indent + f'{self.value}:\\n'\n",
    "        \n",
    "        # If the node has any children:\n",
    "        if (self.left_child != None) or (self.right_child != None):\n",
    "            # If the node has a left child, add None or the child's value.\n",
    "            if self.left_child == None:\n",
    "                result += f'{(level + 1) * BinaryNode.indent}None\\n'\n",
    "            else:\n",
    "                result += self.left_child.__str__(level + 1)\n",
    "\n",
    "            # If the node has a right child, add None or the child's value.\n",
    "            if self.right_child == None:\n",
    "                result += f'{(level + 1) * BinaryNode.indent}None\\n'\n",
    "            else:\n",
    "                result += self.right_child.__str__(level + 1)\n",
    "        return result"
   ]
  },
  {
   "cell_type": "code",
   "execution_count": 19,
   "id": "6cd782eb",
   "metadata": {},
   "outputs": [],
   "source": [
    "# Build a test tree.\n",
    "#      Root\n",
    "#      /  \\\n",
    "#     A    B\n",
    "#    / \\    \\\n",
    "#   C   D    E\n",
    "#           /\n",
    "#          F\n"
   ]
  },
  {
   "cell_type": "code",
   "execution_count": 20,
   "id": "e1ba179e",
   "metadata": {},
   "outputs": [
    {
     "name": "stdout",
     "output_type": "stream",
     "text": [
      "Root:\n",
      "  A:\n",
      "    D:\n",
      "      G:\n",
      "    E:\n",
      "  B:\n",
      "  C:\n",
      "    F:\n",
      "      H:\n",
      "      I:\n",
      "\n"
     ]
    }
   ],
   "source": [
    "print(root)"
   ]
  },
  {
   "cell_type": "code",
   "execution_count": 21,
   "id": "27207be8",
   "metadata": {},
   "outputs": [
    {
     "name": "stdout",
     "output_type": "stream",
     "text": [
      "A:\n",
      "  D:\n",
      "    G:\n",
      "  E:\n",
      "\n"
     ]
    }
   ],
   "source": [
    "print(a)"
   ]
  },
  {
   "cell_type": "code",
   "execution_count": null,
   "id": "95ad25ba",
   "metadata": {},
   "outputs": [],
   "source": []
  },
  {
   "cell_type": "markdown",
   "id": "3bab6290",
   "metadata": {},
   "source": [
    "**BinaryNode**"
   ]
  },
  {
   "cell_type": "code",
   "execution_count": 22,
   "id": "5627039e",
   "metadata": {},
   "outputs": [],
   "source": [
    "class BinaryNode:\n",
    "    indent = '  '\n",
    "\n",
    "    def __init__(self, value):\n",
    "        self.value = value\n",
    "        self.left_child = None\n",
    "        self.right_child = None\n",
    "\n",
    "    def add_left(self, child):\n",
    "        self.left_child = child\n",
    "\n",
    "    def add_right(self, child):\n",
    "        self.right_child = child\n",
    "\n",
    "    # Return an indented string representation of the node and its children.\n",
    "    def __str__(self, level=0):\n",
    "        '''Recursively create a string representation of this node's subtree.\n",
    "        Display this value indented, followed by the left and right values indented one more level.\n",
    "        End in a newline.'''\n",
    "        \n",
    "        # Create a string named result that initially holds the\n",
    "        # current node’s value followed by a new line.\n",
    "        result = level * BinaryNode.indent + f'{self.value}:\\n'\n",
    "        \n",
    "        # If the node has any children:\n",
    "        if (self.left_child != None) or (self.right_child != None):\n",
    "            # If the node has a left child, add None or the child's value.\n",
    "            if self.left_child == None:\n",
    "                result += f'{(level + 1) * BinaryNode.indent}None\\n'\n",
    "            else:\n",
    "                result += self.left_child.__str__(level + 1)\n",
    "\n",
    "            # If the node has a right child, add None or the child's value.\n",
    "            if self.right_child == None:\n",
    "                result += f'{(level + 1) * BinaryNode.indent}None\\n'\n",
    "            else:\n",
    "                result += self.right_child.__str__(level + 1)\n",
    "        return result"
   ]
  },
  {
   "cell_type": "code",
   "execution_count": 23,
   "id": "91f59212",
   "metadata": {},
   "outputs": [],
   "source": [
    "# Build a test tree.\n",
    "#      Root\n",
    "#      /  \\\n",
    "#     A    B\n",
    "#    / \\    \\\n",
    "#   C   D    E\n",
    "#           /\n",
    "#          F\n",
    "root = BinaryNode('Root')\n",
    "a = BinaryNode('A')\n",
    "b = BinaryNode('B')\n",
    "c = BinaryNode('C')\n",
    "d = BinaryNode('D')\n",
    "e = BinaryNode('E')\n",
    "f = BinaryNode('F')\n",
    "\n",
    "root.add_left(a)\n",
    "root.add_right(b)\n",
    "a.add_left(c)\n",
    "a.add_right(d)\n",
    "b.add_right(e)\n",
    "e.add_left(f)"
   ]
  },
  {
   "cell_type": "code",
   "execution_count": 24,
   "id": "b6482c36",
   "metadata": {},
   "outputs": [
    {
     "name": "stdout",
     "output_type": "stream",
     "text": [
      "Root:\n",
      "  A:\n",
      "    C:\n",
      "    D:\n",
      "  B:\n",
      "    None\n",
      "    E:\n",
      "      F:\n",
      "      None\n",
      "\n"
     ]
    }
   ],
   "source": [
    "print(root)"
   ]
  },
  {
   "cell_type": "code",
   "execution_count": 25,
   "id": "43008c08",
   "metadata": {},
   "outputs": [
    {
     "name": "stdout",
     "output_type": "stream",
     "text": [
      "A:\n",
      "  C:\n",
      "  D:\n",
      "\n"
     ]
    }
   ],
   "source": [
    "print(a)"
   ]
  }
 ],
 "metadata": {
  "kernelspec": {
   "display_name": "Python 3 (ipykernel)",
   "language": "python",
   "name": "python3"
  },
  "language_info": {
   "codemirror_mode": {
    "name": "ipython",
    "version": 3
   },
   "file_extension": ".py",
   "mimetype": "text/x-python",
   "name": "python",
   "nbconvert_exporter": "python",
   "pygments_lexer": "ipython3",
   "version": "3.9.16"
  }
 },
 "nbformat": 4,
 "nbformat_minor": 5
}
