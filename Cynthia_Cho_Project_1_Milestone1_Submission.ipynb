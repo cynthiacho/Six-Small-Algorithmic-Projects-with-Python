{
 "cells": [
  {
   "cell_type": "markdown",
   "id": "9ebcc90f",
   "metadata": {},
   "source": [
    "**Nary Node**"
   ]
  },
  {
   "cell_type": "code",
   "execution_count": 5,
   "id": "eab0899f",
   "metadata": {},
   "outputs": [],
   "source": [
    "class NaryNode:\n",
    "    def __init__(self, value):\n",
    "        self.value = value\n",
    "        self.children = []\n",
    "\n",
    "    def add_child(self, child):\n",
    "        self.children.append(child)\n",
    "\n",
    "    # Return a string representation of the node and its children.\n",
    "    def __str__(self):\n",
    "        result = f'{self.value}:'\n",
    "        for child in self.children:\n",
    "            result += f' {child.value}'\n",
    "        return result"
   ]
  },
  {
   "cell_type": "code",
   "execution_count": 6,
   "id": "d6b4024b",
   "metadata": {},
   "outputs": [],
   "source": [
    "# Build a test tree.\n",
    "#      Root\n",
    "#        |\n",
    "#     +--+--+\n",
    "#     A  B  C\n",
    "#     |     |\n",
    "#    +-+    +\n",
    "#    D E    F\n",
    "#    |      |\n",
    "#    +     +-+\n",
    "#    G     H I\n",
    "root = NaryNode('Root')\n",
    "a = NaryNode('A')\n",
    "b = NaryNode('B')\n",
    "c = NaryNode('C')\n",
    "d = NaryNode('D')\n",
    "e = NaryNode('E')\n",
    "f = NaryNode('F')\n",
    "g = NaryNode('G')\n",
    "h = NaryNode('H')\n",
    "i = NaryNode('I')\n",
    "\n",
    "root.add_child(a)\n",
    "root.add_child(b)\n",
    "root.add_child(c)\n",
    "a.add_child(d)\n",
    "a.add_child(e)\n",
    "c.add_child(f)\n",
    "d.add_child(g)\n",
    "f.add_child(h)\n",
    "f.add_child(i)"
   ]
  },
  {
   "cell_type": "code",
   "execution_count": 7,
   "id": "9cf10016",
   "metadata": {},
   "outputs": [
    {
     "name": "stdout",
     "output_type": "stream",
     "text": [
      "Root: A B C\n",
      "A: D E\n",
      "B:\n",
      "C: F\n",
      "D: G\n",
      "E:\n",
      "F: H I\n",
      "G:\n",
      "H:\n",
      "I:\n"
     ]
    }
   ],
   "source": [
    "# Verify the tree.\n",
    "print(root)\n",
    "print(a)\n",
    "print(b)\n",
    "print(c)\n",
    "print(d)\n",
    "print(e)\n",
    "print(f)\n",
    "print(g)\n",
    "print(h)\n",
    "print(i)"
   ]
  },
  {
   "cell_type": "code",
   "execution_count": null,
   "id": "d770b3d6",
   "metadata": {},
   "outputs": [],
   "source": []
  },
  {
   "cell_type": "markdown",
   "id": "2ab62743",
   "metadata": {},
   "source": [
    "**Binary Node**"
   ]
  },
  {
   "cell_type": "code",
   "execution_count": 1,
   "id": "d89dcdaf",
   "metadata": {},
   "outputs": [],
   "source": [
    "class BinaryNode:\n",
    "    def __init__(self, value):\n",
    "        self.value = value\n",
    "        self.left_child = None\n",
    "        self.right_child = None\n",
    "\n",
    "    def add_left(self, child):\n",
    "        self.left_child = child\n",
    "\n",
    "    def add_right(self, child):\n",
    "        self.right_child = child\n",
    "\n",
    "    # Return a string representation of the node and its children.\n",
    "    def __str__(self):\n",
    "        result = f'{self.value}:'\n",
    "        if (self.left_child == None):\n",
    "            result += ' None'\n",
    "        else:\n",
    "            result += f' {self.left_child.value}'\n",
    "\n",
    "        if (self.right_child == None):\n",
    "            result += ' None'\n",
    "        else:\n",
    "            result += f' {self.right_child.value}'\n",
    "        return result"
   ]
  },
  {
   "cell_type": "code",
   "execution_count": 2,
   "id": "05d2cd13",
   "metadata": {},
   "outputs": [],
   "source": [
    "# Build a test tree.\n",
    "#      Root\n",
    "#      /  \\\n",
    "#     A    B\n",
    "#    / \\    \\\n",
    "#   C   D    E\n",
    "#           /\n",
    "#          F\n",
    "root = BinaryNode('Root')\n",
    "a = BinaryNode('A')\n",
    "b = BinaryNode('B')\n",
    "c = BinaryNode('C')\n",
    "d = BinaryNode('D')\n",
    "e = BinaryNode('E')\n",
    "f = BinaryNode('F')\n",
    "\n",
    "root.add_left(a)\n",
    "root.add_right(b)\n",
    "a.add_left(c)\n",
    "a.add_right(d)\n",
    "b.add_right(e)\n",
    "e.add_left(f)"
   ]
  },
  {
   "cell_type": "code",
   "execution_count": 3,
   "id": "8c99624f",
   "metadata": {},
   "outputs": [
    {
     "name": "stdout",
     "output_type": "stream",
     "text": [
      "Root: A B\n",
      "A: C D\n",
      "B: None E\n",
      "C: None None\n",
      "D: None None\n",
      "E: F None\n",
      "F: None None\n"
     ]
    }
   ],
   "source": [
    "print(root)\n",
    "print(a)\n",
    "print(b)\n",
    "print(c)\n",
    "print(d)\n",
    "print(e)\n",
    "print(f)"
   ]
  },
  {
   "cell_type": "code",
   "execution_count": null,
   "id": "c8532868",
   "metadata": {},
   "outputs": [],
   "source": []
  }
 ],
 "metadata": {
  "kernelspec": {
   "display_name": "Python 3 (ipykernel)",
   "language": "python",
   "name": "python3"
  },
  "language_info": {
   "codemirror_mode": {
    "name": "ipython",
    "version": 3
   },
   "file_extension": ".py",
   "mimetype": "text/x-python",
   "name": "python",
   "nbconvert_exporter": "python",
   "pygments_lexer": "ipython3",
   "version": "3.9.16"
  }
 },
 "nbformat": 4,
 "nbformat_minor": 5
}
