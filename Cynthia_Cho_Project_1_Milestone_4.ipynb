{
 "cells": [
  {
   "cell_type": "markdown",
   "id": "cca65d41",
   "metadata": {},
   "source": [
    "**NaryNode**"
   ]
  },
  {
   "cell_type": "code",
   "execution_count": 12,
   "id": "10c8908d",
   "metadata": {},
   "outputs": [],
   "source": [
    "def find_value(root, target):\n",
    "    node = root.find_node(target)\n",
    "    if node == None:\n",
    "        print(f'Value {target} not found')\n",
    "    else:\n",
    "        print(f'Found {node.value}')"
   ]
  },
  {
   "cell_type": "code",
   "execution_count": 13,
   "id": "7ba77f54",
   "metadata": {},
   "outputs": [],
   "source": [
    "# Build a test tree.\n",
    "#      Root\n",
    "#        |\n",
    "#     +--+--+\n",
    "#     A  B  C\n",
    "#     |     |\n",
    "#    +-+    +\n",
    "#    D E    F\n",
    "#    |      |\n",
    "#    +     +-+\n",
    "#    G     H I\n",
    "root = NaryNode('Root')\n",
    "a = NaryNode('A')\n",
    "b = NaryNode('B')\n",
    "c = NaryNode('C')\n",
    "d = NaryNode('D')\n",
    "e = NaryNode('E')\n",
    "f = NaryNode('F')\n",
    "g = NaryNode('G')\n",
    "h = NaryNode('H')\n",
    "i = NaryNode('I')\n",
    "\n",
    "root.add_child(a)\n",
    "root.add_child(b)\n",
    "root.add_child(c)\n",
    "a.add_child(d)\n",
    "a.add_child(e)\n",
    "c.add_child(f)\n",
    "d.add_child(g)\n",
    "f.add_child(h)\n",
    "f.add_child(i)"
   ]
  },
  {
   "cell_type": "code",
   "execution_count": 14,
   "id": "5dc9a590",
   "metadata": {
    "scrolled": true
   },
   "outputs": [
    {
     "name": "stdout",
     "output_type": "stream",
     "text": [
      "Found Root\n",
      "Found E\n",
      "Found F\n",
      "Value Q not found\n",
      "Found F\n"
     ]
    }
   ],
   "source": [
    "# Find some values.\n",
    "find_value(root, 'Root')\n",
    "find_value(root, 'E')\n",
    "find_value(root, 'F')\n",
    "find_value(root, 'Q')\n",
    "\n",
    "# Find F in the C subtree.\n",
    "find_value(c, 'F')"
   ]
  },
  {
   "cell_type": "code",
   "execution_count": null,
   "id": "8fb861a9",
   "metadata": {},
   "outputs": [],
   "source": []
  },
  {
   "cell_type": "markdown",
   "id": "3bab6290",
   "metadata": {},
   "source": [
    "**BinaryNode**"
   ]
  },
  {
   "cell_type": "code",
   "execution_count": null,
   "id": "bf4fb8cd",
   "metadata": {},
   "outputs": [],
   "source": [
    "class Node():\n",
    "\n",
    "def __init__(self, value):\n",
    "        self.value = value\n",
    "        self.left_child = None\n",
    "        self.right_child = None\n",
    "    \n",
    "def __str__(self):\n",
    "    return str(self.data)\n",
    "    \n",
    "\n",
    "class BinaryTree(object):\n",
    "def __init__(self, root):\n",
    "    self.root = Node(root)          \n",
    "                    \n",
    "                        \n",
    "def inorder_print(self, start, traversal):\n",
    "    \"\"\"Left -> root -> right\"\"\"\n",
    "    if start:\n",
    "        traversal = self.inorder_print(start.left, traversal)\n",
    "        traversal += (str(start.data) + \"-\")\n",
    "        traversal = self.inorder_print(start.right, traversal)\n",
    "        \n",
    "\n",
    "    return traversal\n",
    "    \n",
    "    \n",
    "    \n",
    "tree = BinaryTree(1)\n",
    "tree.root.left = Node(2)\n",
    "tree.root.right = Node(3) \n",
    "tree.root.left.left = Node(4)\n",
    "tree.root.left.right = Node(5)\n",
    "tree.root.right.left = Node(6)\n",
    "tree.root.right.right = Node(7)\n",
    "tree.root.right.right.right = Node(8)\n",
    "\n",
    "print(tree.inorder_print(tree.root, \"\"))"
   ]
  },
  {
   "cell_type": "code",
   "execution_count": 15,
   "id": "5627039e",
   "metadata": {},
   "outputs": [],
   "source": [
    "class BinaryNode:\n",
    "    indent = '  '\n",
    "\n",
    "    def __init__(self, value):\n",
    "        self.value = value\n",
    "        self.left_child = None\n",
    "        self.right_child = None\n",
    "\n",
    "    def add_left(self, child):\n",
    "        self.left_child = child\n",
    "\n",
    "    def add_right(self, child):\n",
    "        self.right_child = child\n",
    "\n",
    "    # Return an indented string representation of the node and its children.\n",
    "    def __str__(self, level=0):\n",
    "        '''Recursively create a string representation of this node's subtree.\n",
    "        Display this value indented, followed by the left and right values indented one more level.\n",
    "        End in a newline.'''\n",
    "        result = level * BinaryNode.indent + f'{self.value}:\\n'\n",
    "        if (self.left_child != None) or (self.right_child != None):\n",
    "            if self.left_child == None:\n",
    "                result += f'{(level + 1) * BinaryNode.indent}None\\n'\n",
    "            else:\n",
    "                result += self.left_child.__str__(level + 1)\n",
    "            if self.right_child == None:\n",
    "                result += f'{(level + 1) * BinaryNode.indent}None\\n'\n",
    "            else:\n",
    "                result += self.right_child.__str__(level + 1)\n",
    "        return result\n",
    "\n",
    "    def find_node(self, target):\n",
    "        '''Recursively search this node's subtree looking for the target value.\n",
    "        Return the node that contains the value or None.'''\n",
    "        # See if this node contains the value.\n",
    "        if self.value == target:\n",
    "            return self\n",
    "        \n",
    "        # Search the left child subtree.\n",
    "        if self.left_child != None:\n",
    "            result = self.left_child.find_node(target)\n",
    "            if result != None:\n",
    "                return result\n",
    "\n",
    "        # Search the right child subtree.\n",
    "        if self.right_child != None:\n",
    "            result = self.right_child.find_node(target)\n",
    "            if result != None:\n",
    "                return result\n",
    "\n",
    "        # We did not find the value. Return None.\n",
    "        return None "
   ]
  },
  {
   "cell_type": "code",
   "execution_count": 17,
   "id": "b6482c36",
   "metadata": {},
   "outputs": [
    {
     "name": "stdout",
     "output_type": "stream",
     "text": [
      "Found Root\n",
      "Found E\n",
      "Found F\n",
      "Value Q not found\n",
      "Found F\n"
     ]
    }
   ],
   "source": [
    "# Find some values.\n",
    "find_value(root, 'Root')\n",
    "find_value(root, 'E')\n",
    "find_value(root, 'F')\n",
    "find_value(root, 'Q')\n",
    "\n",
    "# Find F in the B subtree.\n",
    "find_value(b, 'F')      "
   ]
  },
  {
   "cell_type": "code",
   "execution_count": null,
   "id": "43008c08",
   "metadata": {},
   "outputs": [],
   "source": []
  }
 ],
 "metadata": {
  "kernelspec": {
   "display_name": "Python 3 (ipykernel)",
   "language": "python",
   "name": "python3"
  },
  "language_info": {
   "codemirror_mode": {
    "name": "ipython",
    "version": 3
   },
   "file_extension": ".py",
   "mimetype": "text/x-python",
   "name": "python",
   "nbconvert_exporter": "python",
   "pygments_lexer": "ipython3",
   "version": "3.9.16"
  }
 },
 "nbformat": 4,
 "nbformat_minor": 5
}
