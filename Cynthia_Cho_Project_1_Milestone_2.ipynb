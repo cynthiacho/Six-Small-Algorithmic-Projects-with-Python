{
 "cells": [
  {
   "cell_type": "markdown",
   "id": "cca65d41",
   "metadata": {},
   "source": [
    "**NaryNode**"
   ]
  },
  {
   "cell_type": "code",
   "execution_count": 3,
   "id": "f0f335af",
   "metadata": {},
   "outputs": [
    {
     "ename": "IndentationError",
     "evalue": "expected an indented block (2361113414.py, line 7)",
     "output_type": "error",
     "traceback": [
      "\u001b[1;36m  Cell \u001b[1;32mIn[3], line 7\u001b[1;36m\u001b[0m\n\u001b[1;33m    def add_child(self, child):\u001b[0m\n\u001b[1;37m    ^\u001b[0m\n\u001b[1;31mIndentationError\u001b[0m\u001b[1;31m:\u001b[0m expected an indented block\n"
     ]
    }
   ],
   "source": [
    "class NaryNode:\n",
    "    indent = '  '\n",
    "\n",
    "    def __init__(self, value):\n",
    "        \n",
    "\n",
    "    def add_child(self, child):\n",
    "        \n",
    "        \n",
    "    def __str__(self):\n",
    "        \n",
    "\n",
    "    # Return an indented string representation of the node and its children.\n",
    "    def __str__(self, level=0):\n",
    "        '''Recursively create a string representation of this node's subtree.\n",
    "        Display this value indented, followed by the child values indented one more level.\n",
    "        End in a newline.'''\n",
    "        "
   ]
  },
  {
   "cell_type": "code",
   "execution_count": null,
   "id": "10c8908d",
   "metadata": {},
   "outputs": [],
   "source": [
    "# Build a test tree.\n",
    "#      Root\n",
    "#        |\n",
    "#     +--+--+\n",
    "#     A  B  C\n",
    "#     |     |\n",
    "#    +-+    +\n",
    "#    D E    F\n",
    "#    |      |\n",
    "#    +     +-+\n",
    "#    G     H I\n"
   ]
  },
  {
   "cell_type": "code",
   "execution_count": null,
   "id": "7ba77f54",
   "metadata": {},
   "outputs": [],
   "source": [
    "print(root)"
   ]
  },
  {
   "cell_type": "code",
   "execution_count": null,
   "id": "5dc9a590",
   "metadata": {},
   "outputs": [],
   "source": [
    "print(a)"
   ]
  },
  {
   "cell_type": "code",
   "execution_count": null,
   "id": "8fb861a9",
   "metadata": {},
   "outputs": [],
   "source": []
  },
  {
   "cell_type": "markdown",
   "id": "52d9f4e2",
   "metadata": {},
   "source": [
    "**Binary Node**"
   ]
  },
  {
   "cell_type": "code",
   "execution_count": null,
   "id": "005e76d0",
   "metadata": {},
   "outputs": [],
   "source": [
    "class BinaryNode:\n",
    "    indent = '  '\n",
    "\n",
    "    def __init__(self, value):\n",
    "        \n",
    "\n",
    "    def add_left(self, child):\n",
    "        \n",
    "\n",
    "    def add_right(self, child):\n",
    "        \n",
    "\n",
    "    # Return an indented string representation of the node and its children.\n",
    "    def __str__(self, level=0):\n",
    "        '''Recursively create a string representation of this node's subtree.\n",
    "        Display this value indented, followed by the left and right values indented one more level.\n",
    "        End in a newline.'''\n",
    "        \n",
    "        # Create a string named result that initially holds the\n",
    "        # current node’s value followed by a new line.\n",
    "        \n",
    "        \n",
    "        # If the node has any children:\n",
    "        \n",
    "            # If the node has a left child, add None or the child's value.\n",
    "            \n",
    "\n",
    "            # If the node has a right child, add None or the child's value.\n",
    "            \n",
    "        return result"
   ]
  },
  {
   "cell_type": "code",
   "execution_count": null,
   "id": "6cd782eb",
   "metadata": {},
   "outputs": [],
   "source": [
    "# Build a test tree.\n",
    "#      Root\n",
    "#      /  \\\n",
    "#     A    B\n",
    "#    / \\    \\\n",
    "#   C   D    E\n",
    "#           /\n",
    "#          F\n"
   ]
  },
  {
   "cell_type": "code",
   "execution_count": null,
   "id": "e1ba179e",
   "metadata": {},
   "outputs": [],
   "source": [
    "print(root)"
   ]
  },
  {
   "cell_type": "code",
   "execution_count": null,
   "id": "27207be8",
   "metadata": {},
   "outputs": [],
   "source": [
    "print(a)"
   ]
  },
  {
   "cell_type": "code",
   "execution_count": null,
   "id": "95ad25ba",
   "metadata": {},
   "outputs": [],
   "source": []
  },
  {
   "cell_type": "code",
   "execution_count": null,
   "id": "5627039e",
   "metadata": {},
   "outputs": [],
   "source": []
  }
 ],
 "metadata": {
  "kernelspec": {
   "display_name": "Python 3 (ipykernel)",
   "language": "python",
   "name": "python3"
  },
  "language_info": {
   "codemirror_mode": {
    "name": "ipython",
    "version": 3
   },
   "file_extension": ".py",
   "mimetype": "text/x-python",
   "name": "python",
   "nbconvert_exporter": "python",
   "pygments_lexer": "ipython3",
   "version": "3.9.16"
  }
 },
 "nbformat": 4,
 "nbformat_minor": 5
}
